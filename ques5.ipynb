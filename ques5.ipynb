{
 "cells": [
  {
   "cell_type": "code",
   "execution_count": 1,
   "metadata": {
    "ExecuteTime": {
     "end_time": "2021-04-22T15:46:14.047250Z",
     "start_time": "2021-04-22T15:46:13.368399Z"
    }
   },
   "outputs": [],
   "source": [
    "from tqdm.notebook import tqdm\n",
    "import matplotlib.pyplot as plt\n",
    "import pandas as pd\n",
    "import matplotlib.style as style\n",
    "import numpy as np\n",
    "import scipy as sp\n",
    "from scipy.optimize import curve_fit\n",
    "import math"
   ]
  },
  {
   "cell_type": "markdown",
   "metadata": {},
   "source": [
    "### Prepare Train Data and Test Data"
   ]
  },
  {
   "cell_type": "code",
   "execution_count": 2,
   "metadata": {
    "ExecuteTime": {
     "end_time": "2021-04-22T15:46:14.117733Z",
     "start_time": "2021-04-22T15:46:14.050615Z"
    }
   },
   "outputs": [],
   "source": [
    "df = pd.read_csv('ratings.csv')\n",
    "df = df[['userId', 'movieId', 'rating']]\n",
    "# Shuffle the total data\n",
    "df = df.sample(frac=1).reset_index(drop=True)\n",
    "usersList = pd.unique(df['userId'])\n",
    "moviesList = pd.unique(df['movieId'])\n",
    "numUsers = len(usersList)\n",
    "numMovies = len(moviesList)\n",
    "numRows = df.shape[0]\n",
    "# The first 80% rows will go to Train Data\n",
    "trainNumRows = (8 * numRows) // 10"
   ]
  },
  {
   "cell_type": "code",
   "execution_count": 3,
   "metadata": {
    "ExecuteTime": {
     "end_time": "2021-04-22T15:46:37.565558Z",
     "start_time": "2021-04-22T15:46:14.119999Z"
    }
   },
   "outputs": [
    {
     "data": {
      "text/plain": [
       "(610, 9724)"
      ]
     },
     "execution_count": 3,
     "metadata": {},
     "output_type": "execute_result"
    }
   ],
   "source": [
    "train_df = df.iloc[:trainNumRows,:]\n",
    "trainList = []\n",
    "for index, row in train_df.iterrows():\n",
    "    trainList.append((row['userId'], row['movieId'], row['rating']))\n",
    "train_df = df.pivot(index = 'userId', columns = 'movieId', values = 'rating').fillna(0)\n",
    "\n",
    "test_df = df.iloc[trainNumRows:,:]\n",
    "testList = []\n",
    "for index, row in test_df.iterrows():\n",
    "    testList.append((row['userId'], row['movieId'], row['rating']))\n",
    "    train_df.at[row['userId'], row['movieId']] = 0\n",
    "test_df = df.pivot(index = 'userId', columns = 'movieId', values = 'rating').fillna(0)\n",
    "for user, movie, rating in trainList:\n",
    "    test_df.at[row['userId'], row['movieId']] = 0\n",
    "    \n",
    "train_df.shape"
   ]
  },
  {
   "cell_type": "markdown",
   "metadata": {},
   "source": [
    "### Compute Low Rank Approximation and Error"
   ]
  },
  {
   "cell_type": "code",
   "execution_count": 4,
   "metadata": {
    "ExecuteTime": {
     "end_time": "2021-04-22T15:46:37.570686Z",
     "start_time": "2021-04-22T15:46:37.567444Z"
    }
   },
   "outputs": [],
   "source": [
    "def computeError(pred_df, testList):\n",
    "    err = 0\n",
    "    for user, movie, actualRating in testList:\n",
    "        predictedRating = pred_df.at[user, movie]\n",
    "        current_err = (predictedRating - actualRating) ** 2\n",
    "        err += current_err\n",
    "    return err"
   ]
  },
  {
   "cell_type": "code",
   "execution_count": 5,
   "metadata": {
    "ExecuteTime": {
     "end_time": "2021-04-22T15:47:08.069015Z",
     "start_time": "2021-04-22T15:46:37.572716Z"
    }
   },
   "outputs": [],
   "source": [
    "# Single Value Decomposition\n",
    "train_matrix= train_df.to_numpy()\n",
    "\n",
    "U, D, Vt = np.linalg.svd(train_matrix)"
   ]
  },
  {
   "cell_type": "code",
   "execution_count": 6,
   "metadata": {
    "ExecuteTime": {
     "end_time": "2021-04-22T15:50:12.096036Z",
     "start_time": "2021-04-22T15:47:08.070997Z"
    },
    "scrolled": true
   },
   "outputs": [
    {
     "data": {
      "application/vnd.jupyter.widget-view+json": {
       "model_id": "",
       "version_major": 2,
       "version_minor": 0
      },
      "text/plain": [
       "  0%|          | 0/100 [00:00<?, ?it/s]"
      ]
     },
     "metadata": {},
     "output_type": "display_data"
    }
   ],
   "source": [
    "#compute error for each k\n",
    "errorList = []\n",
    "for k in tqdm(range(100), leave = False):\n",
    "    pred = np.zeros((len(U), len(Vt)))\n",
    "    for i in range(k):\n",
    "        pred += D[i] * np.outer(U.T[i], Vt[i])\n",
    "    pred_df = pd.DataFrame(pred, index = train_df.index, columns = train_df.columns)\n",
    "    errorVal = computeError(pred_df, testList)\n",
    "    errorList.append(errorVal)"
   ]
  },
  {
   "cell_type": "code",
   "execution_count": 7,
   "metadata": {
    "ExecuteTime": {
     "end_time": "2021-04-22T15:50:12.230728Z",
     "start_time": "2021-04-22T15:50:12.099357Z"
    }
   },
   "outputs": [
    {
     "data": {
      "image/png": "[encoded data removed]",
      "text/plain": [
       "<Figure size 432x288 with 1 Axes>"
      ]
     },
     "metadata": {},
     "output_type": "display_data"
    }
   ],
   "source": [
    "style.use('ggplot')\n",
    "plt.plot(list(range(100)), errorList, label=\"Low-rank approximation error value\")\n",
    "plt.xlabel('k')\n",
    "plt.ylabel('Error Value')\n",
    "plt.legend()\n",
    "plt.show()"
   ]
  },
  {
   "cell_type": "markdown",
   "metadata": {},
   "source": [
    "### BaseLine Algorithm"
   ]
  },
  {
   "cell_type": "code",
   "execution_count": 8,
   "metadata": {
    "ExecuteTime": {
     "end_time": "2021-04-22T15:50:12.532372Z",
     "start_time": "2021-04-22T15:50:12.233575Z"
    }
   },
   "outputs": [],
   "source": [
    "train_df = train_df.replace(0, np.NaN)\n",
    "userAvg = train_df.mean(axis = 1, skipna = True)\n",
    "movieAvg = train_df.mean(axis = 0, skipna = True)"
   ]
  },
  {
   "cell_type": "code",
   "execution_count": 9,
   "metadata": {
    "ExecuteTime": {
     "end_time": "2021-04-22T15:50:12.539302Z",
     "start_time": "2021-04-22T15:50:12.534229Z"
    }
   },
   "outputs": [],
   "source": [
    "# Fit the curve for parameters alpha, beta\n",
    "def rating_function(X, a, b):\n",
    "    user_avg, movie_avg = X\n",
    "    result = a * user_avg + b * movie_avg\n",
    "    return result\n",
    "def fit_variables(movieAvg, userAvg, test_df):\n",
    "    userData = []\n",
    "    movieData = []\n",
    "    actualRating = []\n",
    "    for row in trainList:\n",
    "        userData.append(userAvg[row[0]])\n",
    "        movieData.append(movieAvg[row[1]])\n",
    "        actualRating.append(row[2])\n",
    "    return curve_fit(rating_function, (userData, movieData), actualRating)"
   ]
  },
  {
   "cell_type": "code",
   "execution_count": 10,
   "metadata": {
    "ExecuteTime": {
     "end_time": "2021-04-22T15:50:13.050532Z",
     "start_time": "2021-04-22T15:50:12.541182Z"
    },
    "scrolled": true
   },
   "outputs": [
    {
     "name": "stdout",
     "output_type": "stream",
     "text": [
      "0.3635038528557017 0.6442918032391023\n"
     ]
    }
   ],
   "source": [
    "(alpha, beta), pArray = fit_variables(movieAvg, userAvg, test_df)\n",
    "print(alpha, beta)"
   ]
  },
  {
   "cell_type": "code",
   "execution_count": 11,
   "metadata": {
    "ExecuteTime": {
     "end_time": "2021-04-22T15:50:13.056384Z",
     "start_time": "2021-04-22T15:50:13.052256Z"
    }
   },
   "outputs": [],
   "source": [
    "def computeBaseLineError(alpha, beta, testList):\n",
    "    err = 0\n",
    "    for user, movie, actualRating in testList:\n",
    "        predictedRating = 0\n",
    "        if movie in movieAvg and user in userAvg:\n",
    "            predictedRating = alpha * userAvg[user] + beta * movieAvg[movie]\n",
    "        if math.isnan(predictedRating):\n",
    "            predictedRating = 0\n",
    "        current_err = (predictedRating - actualRating) ** 2\n",
    "#         print(predictedRating, actualRating)\n",
    "        err += current_err\n",
    "#     print(err)\n",
    "    return err"
   ]
  },
  {
   "cell_type": "code",
   "execution_count": 12,
   "metadata": {
    "ExecuteTime": {
     "end_time": "2021-04-22T15:50:33.023729Z",
     "start_time": "2021-04-22T15:50:13.058521Z"
    }
   },
   "outputs": [
    {
     "data": {
      "application/vnd.jupyter.widget-view+json": {
       "model_id": "",
       "version_major": 2,
       "version_minor": 0
      },
      "text/plain": [
       "  0%|          | 0/100 [00:00<?, ?it/s]"
      ]
     },
     "metadata": {},
     "output_type": "display_data"
    }
   ],
   "source": [
    "baseLineErrorList = []\n",
    "for k in tqdm(range(100), leave = False):\n",
    "    errorVal = computeBaseLineError(alpha, beta, testList)\n",
    "    baseLineErrorList.append(errorVal)"
   ]
  },
  {
   "cell_type": "code",
   "execution_count": 13,
   "metadata": {
    "ExecuteTime": {
     "end_time": "2021-04-22T15:50:33.386925Z",
     "start_time": "2021-04-22T15:50:33.025558Z"
    }
   },
   "outputs": [
    {
     "data": {
      "image/png": "[encoded data removed]",
      "text/plain": [
       "<Figure size 432x288 with 1 Axes>"
      ]
     },
     "metadata": {},
     "output_type": "display_data"
    },
    {
     "data": {
      "image/png": "[encoded data removed]",
      "text/plain": [
       "<Figure size 432x288 with 1 Axes>"
      ]
     },
     "metadata": {},
     "output_type": "display_data"
    },
    {
     "data": {
      "image/png": "[encoded data removed]",
      "text/plain": [
       "<Figure size 432x288 with 1 Axes>"
      ]
     },
     "metadata": {},
     "output_type": "display_data"
    }
   ],
   "source": [
    "style.use('ggplot')\n",
    "# Low Rank Approximation Error\n",
    "plt.plot(list(range(100)), errorList, label=\"Low-rank approximation error value\")\n",
    "plt.xlabel('k')\n",
    "plt.ylabel('Error Value')\n",
    "plt.legend()\n",
    "plt.show()\n",
    "\n",
    "# BaseLine Algo Error Plot\n",
    "plt.plot(list(range(100)), baseLineErrorList, label=\"BaseLine Algo Error Value\")\n",
    "plt.xlabel('k')\n",
    "plt.ylabel('Error Value')\n",
    "plt.legend()\n",
    "plt.show()\n",
    "\n",
    "# Comparison Plot\n",
    "plt.plot(list(range(100)), errorList, label=\"Low-rank approximation error value\")\n",
    "plt.plot(list(range(100)), baseLineErrorList, label=\"BaseLine Algo Error Value\")\n",
    "plt.xlabel('k')\n",
    "plt.ylabel('Error Value')\n",
    "plt.legend()\n",
    "plt.show()"
   ]
  }
 ],
 "metadata": {
  "kernelspec": {
   "display_name": "Python 3",
   "language": "python",
   "name": "python3"
  },
  "language_info": {
   "codemirror_mode": {
    "name": "ipython",
    "version": 3
   },
   "file_extension": ".py",
   "mimetype": "text/x-python",
   "name": "python",
   "nbconvert_exporter": "python",
   "pygments_lexer": "ipython3",
   "version": "3.8.2"
  },
  "toc": {
   "base_numbering": 1,
   "nav_menu": {},
   "number_sections": true,
   "sideBar": true,
   "skip_h1_title": false,
   "title_cell": "Table of Contents",
   "title_sidebar": "Contents",
   "toc_cell": false,
   "toc_position": {},
   "toc_section_display": true,
   "toc_window_display": false
  },
  "varInspector": {
   "cols": {
    "lenName": 16,
    "lenType": 16,
    "lenVar": 40
   },
   "kernels_config": {
    "python": {
     "delete_cmd_postfix": "",
     "delete_cmd_prefix": "del ",
     "library": "var_list.py",
     "varRefreshCmd": "print(var_dic_list())"
    },
    "r": {
     "delete_cmd_postfix": ") ",
     "delete_cmd_prefix": "rm(",
     "library": "var_list.r",
     "varRefreshCmd": "cat(var_dic_list()) "
    }
   },
   "types_to_exclude": [
    "module",
    "function",
    "builtin_function_or_method",
    "instance",
    "_Feature"
   ],
   "window_display": false
  }
 },
 "nbformat": 4,
 "nbformat_minor": 4
}
