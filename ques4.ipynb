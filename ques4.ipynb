{
 "cells": [
  {
   "cell_type": "code",
   "execution_count": 1,
   "metadata": {
    "ExecuteTime": {
     "end_time": "2021-04-22T10:24:02.960417Z",
     "start_time": "2021-04-22T10:24:02.304757Z"
    }
   },
   "outputs": [],
   "source": [
    "import random\n",
    "from datetime import datetime\n",
    "from tqdm.notebook import tqdm\n",
    "import statistics\n",
    "import matplotlib.pyplot as plt\n",
    "import pandas as pd\n",
    "import matplotlib.style as style"
   ]
  },
  {
   "cell_type": "markdown",
   "metadata": {},
   "source": [
    "### Generate Query Data"
   ]
  },
  {
   "cell_type": "code",
   "execution_count": 2,
   "metadata": {
    "ExecuteTime": {
     "end_time": "2021-04-22T10:24:06.099720Z",
     "start_time": "2021-04-22T10:24:02.963775Z"
    }
   },
   "outputs": [
    {
     "name": "stdout",
     "output_type": "stream",
     "text": [
      "Number of Unique words:  53975\n",
      "Query Data successfully written to file query.data\n"
     ]
    }
   ],
   "source": [
    "wordCount = {} # maintains the actual frequency count\n",
    "with open(\"train.data\") as input_file:\n",
    "    input_line = input_file.readline()\n",
    "    while input_line:\n",
    "        groupNo, wordIDx, count = map(int, input_line.split())\n",
    "        if wordIDx in wordCount:\n",
    "            wordCount[wordIDx] += 1\n",
    "        else:\n",
    "            wordCount[wordIDx] = 1\n",
    "        input_line = input_file.readline()\n",
    "wordCountList = []\n",
    "for key, value in wordCount.items():\n",
    "    wordCountList.append([key, value])\n",
    "wordCountList.sort(key = lambda x: x[1], reverse = True)\n",
    "# The number of actual unique word count\n",
    "print(\"Number of Unique words: \", len(wordCountList))\n",
    "# Sample 100 items from the 1000 most frequent words\n",
    "queryList = random.sample(wordCountList[:1000], 100)\n",
    "with open(\"query.data\", \"w\") as query_file:\n",
    "    for a,b in queryList:\n",
    "        query_file.write(str(a) + \" \" + str(b) + \"\\n\")\n",
    "print(\"Query Data successfully written to file query.data\")"
   ]
  },
  {
   "cell_type": "markdown",
   "metadata": {},
   "source": [
    "### Misra-Gries Sketch"
   ]
  },
  {
   "cell_type": "code",
   "execution_count": 3,
   "metadata": {
    "ExecuteTime": {
     "end_time": "2021-04-22T10:24:06.114654Z",
     "start_time": "2021-04-22T10:24:06.103405Z"
    }
   },
   "outputs": [],
   "source": [
    "class MisraGries:\n",
    "    def __init__(self, k):\n",
    "        self.k = k\n",
    "        self.counters = {}\n",
    "        \n",
    "    def process(self, element, count):\n",
    "        if element in self.counters:\n",
    "            self.counters[element] += count\n",
    "        elif len(self.counters) < self.k - 1:\n",
    "            self.counters[element] = count\n",
    "        else:\n",
    "            frequencyToDecrease = count\n",
    "            for key, val in self.counters.items():\n",
    "                frequencyToDecrease = min(frequencyToDecrease, val)\n",
    "            for key in self.counters:\n",
    "                self.counters[key] -= frequencyToDecrease\n",
    "            # Remove all keys whose frequency is <= 0\n",
    "            self.counters = {key:val for key, val in self.counters.items() if val > 0}\n",
    "            if count > frequencyToDecrease:\n",
    "                self.counters[element] = count - frequencyToDecrease\n",
    "            # If the new inserted element has count <= frequencyToDecrease, it will be removed\n",
    "            self.counters = {key:val for key, val in self.counters.items() if val > 0}\n",
    "            \n",
    "    def query(self, element):\n",
    "        if element in self.counters:\n",
    "            return self.counters[element]\n",
    "        return 0"
   ]
  },
  {
   "cell_type": "markdown",
   "metadata": {},
   "source": [
    "### Count-min Sketch"
   ]
  },
  {
   "cell_type": "code",
   "execution_count": 4,
   "metadata": {
    "ExecuteTime": {
     "end_time": "2021-04-22T10:24:06.132621Z",
     "start_time": "2021-04-22T10:24:06.117871Z"
    },
    "code_folding": []
   },
   "outputs": [],
   "source": [
    "class CountMinSketch:\n",
    "    def __init__(self, numRows, numCols):\n",
    "        self.p = 104207\n",
    "        self.hash_functions = []   # stores the a,b for the hash functions\n",
    "        self.numRows, self.numCols = numRows, numCols\n",
    "        for _ in range(numRows):\n",
    "            random.seed(datetime.now())\n",
    "            a = random.randint(1, self.p - 1)\n",
    "            b = random.randint(1, self.p - 1)\n",
    "            self.hash_functions.append((a,b))\n",
    "        self.countArray = [[0] * numCols for i in range(numRows)]\n",
    "\n",
    "    def hash_value(self, rowID, element):\n",
    "        a, b = self.hash_functions[rowID]\n",
    "        return ((a * element + b) % self.p) % self.numCols\n",
    "   \n",
    "    def process(self, element, count):\n",
    "        for rowID in range(self.numRows):\n",
    "            colID = self.hash_value(rowID, element)\n",
    "            self.countArray[rowID][colID] += count\n",
    "                \n",
    "    def query(self, element):\n",
    "        tempCountArray = []\n",
    "        for rowID in range(self.numRows):\n",
    "            colID = self.hash_value(rowID, element)\n",
    "            tempCountArray.append(self.countArray[rowID][colID])\n",
    "        return min(tempCountArray)"
   ]
  },
  {
   "cell_type": "markdown",
   "metadata": {},
   "source": [
    "### count Sketch"
   ]
  },
  {
   "cell_type": "code",
   "execution_count": 5,
   "metadata": {
    "ExecuteTime": {
     "end_time": "2021-04-22T10:24:06.151943Z",
     "start_time": "2021-04-22T10:24:06.135518Z"
    }
   },
   "outputs": [],
   "source": [
    "class CountSketch:\n",
    "    def __init__(self, numRows, numCols):\n",
    "        self.p = 104207\n",
    "        self.hash_functions = []\n",
    "        self.sign_hash_functions = []\n",
    "        self.numRows, self.numCols = numRows, numCols\n",
    "        # Generate the hash functions and sign hash functions\n",
    "        for _ in range(numRows):\n",
    "            random.seed(datetime.now())\n",
    "            a = random.randint(1, self.p - 1)\n",
    "            b = random.randint(1, self.p - 1)\n",
    "            self.hash_functions.append((a,b))\n",
    "            random.seed(datetime.now())\n",
    "            a = random.randint(1, self.p - 1)\n",
    "            b = random.randint(1, self.p - 1)\n",
    "            self.sign_hash_functions.append((a,b))\n",
    "        self.countArray = [[0] * numCols for i in range(numRows)]\n",
    "    # returns the column number\n",
    "    def hash_value(self, rowID, element):\n",
    "        a, b = self.hash_functions[rowID]\n",
    "        return ((a * element + b) % self.p) % self.numCols\n",
    "   # returns the sign, gi\n",
    "    def sign_hash_value(self, rowID, element):\n",
    "        a, b = self.sign_hash_functions[rowID]\n",
    "        hash_val = ((a * element + b) % self.p) % 2\n",
    "        if hash_val == 0:\n",
    "            return -1\n",
    "        return 1\n",
    "    \n",
    "    def process(self, element, count):\n",
    "        for rowID in range(self.numRows):\n",
    "            colID = self.hash_value(rowID, element)\n",
    "            sign = self.sign_hash_value(rowID, element)\n",
    "            self.countArray[rowID][colID] += sign * count\n",
    "                \n",
    "    def query(self, element):\n",
    "        tempCountArray = []\n",
    "        for rowID in range(self.numRows):\n",
    "            colID = self.hash_value(rowID, element)\n",
    "            sign = self.sign_hash_value(rowID, element)\n",
    "            tempCountArray.append(sign * self.countArray[rowID][colID])\n",
    "        return int(statistics.median(tempCountArray))"
   ]
  },
  {
   "cell_type": "markdown",
   "metadata": {},
   "source": [
    "### Average Relative Error for different k"
   ]
  },
  {
   "cell_type": "code",
   "execution_count": 6,
   "metadata": {
    "ExecuteTime": {
     "end_time": "2021-04-22T10:25:34.574076Z",
     "start_time": "2021-04-22T10:24:06.157992Z"
    }
   },
   "outputs": [
    {
     "data": {
      "application/vnd.jupyter.widget-view+json": {
       "model_id": "",
       "version_major": 2,
       "version_minor": 0
      },
      "text/plain": [
       "  0%|          | 0/5 [00:00<?, ?it/s]"
      ]
     },
     "metadata": {},
     "output_type": "display_data"
    }
   ],
   "source": [
    "w = 5\n",
    "k_list = (100, 200, 500, 1000, 2000)\n",
    "mGriesRelativeErrorList, countMinRelativeErrorList, countSketchRelativeErrorList = [], [], []\n",
    "for k in tqdm(k_list, leave = False):\n",
    "    d = k // w\n",
    "    mGries = MisraGries(k)\n",
    "    countMin = CountMinSketch(w, d)\n",
    "    countSketch = CountSketch(w, d)\n",
    "    # Run the three sketches on the train data\n",
    "    with open(\"train.data\") as input_file:\n",
    "        input_line = input_file.readline()\n",
    "        while input_line:\n",
    "            groupNo, wordIDx, count = map(int, input_line.split())\n",
    "            mGries.process(wordIDx, count)\n",
    "            countMin.process(wordIDx, count)\n",
    "            countSketch.process(wordIDx, count)\n",
    "            input_line = input_file.readline()\n",
    "    # Query the three structures and maintain the relative errors\n",
    "    mGriesRelativeError, countMinRelativeError, countSketchRelativeError = 0, 0, 0\n",
    "    with open(\"query.data\") as query_file:\n",
    "        input_line = query_file.readline()\n",
    "        while input_line:\n",
    "            wordIDx, actualCount = map(int, input_line.split())\n",
    "            mGriesRelativeError += abs(mGries.query(wordIDx) - actualCount) / actualCount\n",
    "            countMinRelativeError += abs(countMin.query(wordIDx) - actualCount) / actualCount\n",
    "            countSketchRelativeError += abs(countSketch.query(wordIDx) - actualCount) / actualCount\n",
    "            input_line = query_file.readline()\n",
    "    mGriesRelativeError /= 100\n",
    "    countMinRelativeError /= 100\n",
    "    countSketchRelativeError /= 100\n",
    "    mGriesRelativeErrorList.append(mGriesRelativeError)\n",
    "    countMinRelativeErrorList.append(countMinRelativeError)\n",
    "    countSketchRelativeErrorList.append(countSketchRelativeError)"
   ]
  },
  {
   "cell_type": "code",
   "execution_count": 7,
   "metadata": {
    "ExecuteTime": {
     "end_time": "2021-04-22T10:25:34.595010Z",
     "start_time": "2021-04-22T10:25:34.578672Z"
    }
   },
   "outputs": [
    {
     "data": {
      "text/html": [
       "<div>\n",
       "<style scoped>\n",
       "    .dataframe tbody tr th:only-of-type {\n",
       "        vertical-align: middle;\n",
       "    }\n",
       "\n",
       "    .dataframe tbody tr th {\n",
       "        vertical-align: top;\n",
       "    }\n",
       "\n",
       "    .dataframe thead th {\n",
       "        text-align: right;\n",
       "    }\n",
       "</style>\n",
       "<table border=\"1\" class=\"dataframe\">\n",
       "  <thead>\n",
       "    <tr style=\"text-align: right;\">\n",
       "      <th></th>\n",
       "      <th>misra-gries</th>\n",
       "      <th>count-min</th>\n",
       "      <th>count sketch</th>\n",
       "    </tr>\n",
       "    <tr>\n",
       "      <th>k</th>\n",
       "      <th></th>\n",
       "      <th></th>\n",
       "      <th></th>\n",
       "    </tr>\n",
       "  </thead>\n",
       "  <tbody>\n",
       "    <tr>\n",
       "      <th>100</th>\n",
       "      <td>0.999994</td>\n",
       "      <td>239.442950</td>\n",
       "      <td>35.067111</td>\n",
       "    </tr>\n",
       "    <tr>\n",
       "      <th>200</th>\n",
       "      <td>0.999888</td>\n",
       "      <td>106.094061</td>\n",
       "      <td>21.996292</td>\n",
       "    </tr>\n",
       "    <tr>\n",
       "      <th>500</th>\n",
       "      <td>0.957877</td>\n",
       "      <td>34.363770</td>\n",
       "      <td>7.377537</td>\n",
       "    </tr>\n",
       "    <tr>\n",
       "      <th>1000</th>\n",
       "      <td>0.910429</td>\n",
       "      <td>15.946000</td>\n",
       "      <td>3.802347</td>\n",
       "    </tr>\n",
       "    <tr>\n",
       "      <th>2000</th>\n",
       "      <td>0.775348</td>\n",
       "      <td>6.900819</td>\n",
       "      <td>2.006081</td>\n",
       "    </tr>\n",
       "  </tbody>\n",
       "</table>\n",
       "</div>"
      ],
      "text/plain": [
       "      misra-gries   count-min  count sketch\n",
       "k                                          \n",
       "100      0.999994  239.442950     35.067111\n",
       "200      0.999888  106.094061     21.996292\n",
       "500      0.957877   34.363770      7.377537\n",
       "1000     0.910429   15.946000      3.802347\n",
       "2000     0.775348    6.900819      2.006081"
      ]
     },
     "metadata": {},
     "output_type": "display_data"
    }
   ],
   "source": [
    "df = pd.DataFrame({'k': k_list, \n",
    "                   'misra-gries' : mGriesRelativeErrorList,\n",
    "                  'count-min' : countMinRelativeErrorList,\n",
    "                  'count sketch' : countSketchRelativeErrorList})\n",
    "df = df.set_index('k')\n",
    "display(df)"
   ]
  },
  {
   "cell_type": "code",
   "execution_count": 13,
   "metadata": {
    "ExecuteTime": {
     "end_time": "2021-04-22T12:19:56.731129Z",
     "start_time": "2021-04-22T12:19:56.472028Z"
    }
   },
   "outputs": [
    {
     "data": {
      "image/png": "[encoded data removed]",
      "text/plain": [
       "<Figure size 432x288 with 1 Axes>"
      ]
     },
     "metadata": {},
     "output_type": "display_data"
    }
   ],
   "source": [
    "style.use('ggplot')\n",
    "plt.plot(k_list, mGriesRelativeErrorList, label = \"Misra-Gries Sketch\")\n",
    "plt.plot(k_list, countMinRelativeErrorList, label = \"count-min Sketch\")\n",
    "plt.plot(k_list, countSketchRelativeErrorList, label = \"count Sketch\")\n",
    "plt.legend()\n",
    "plt.xlabel(\"k\") \n",
    "plt.ylabel(\"Average Relative Error %\")\n",
    "plt.show()"
   ]
  },
  {
   "cell_type": "markdown",
   "metadata": {},
   "source": [
    "### min w for average error < 1% (using Binary Search)"
   ]
  },
  {
   "cell_type": "markdown",
   "metadata": {},
   "source": [
    "#### Misra-Gries Sketch"
   ]
  },
  {
   "cell_type": "code",
   "execution_count": 9,
   "metadata": {
    "ExecuteTime": {
     "end_time": "2021-04-22T10:26:37.706096Z",
     "start_time": "2021-04-22T10:25:34.814138Z"
    }
   },
   "outputs": [
    {
     "name": "stdout",
     "output_type": "stream",
     "text": [
      "5000 1 4999 0.3515167503364409\n",
      "2500 1 2499 0.6781775537717284\n",
      "1250 1 1249 0.8857543269295028\n",
      "625 1 624 0.9443713301449899\n",
      "312 1 311 0.9805867221190764\n",
      "156 1 155 0.9999824421646701\n",
      "78 1 77 0.9999971687429218\n",
      "39 40 77 1.0\n",
      "58 59 77 1.0\n",
      "68 69 77 1.0\n",
      "73 69 72 0.9999971687429218\n",
      "70 71 72 1.0\n",
      "71 72 72 1.0\n",
      "72 72 71 0.9999971687429218\n",
      "Min k for 1% average error is: 72\n"
     ]
    }
   ],
   "source": [
    "# Binary Search\n",
    "start_k = 1\n",
    "end_k = 10000\n",
    "answer_k = end_k\n",
    "mid_k = (start_k + end_k) // 2\n",
    "while mid_k <= end_k and mid_k >= start_k:\n",
    "    mGries = MisraGries(mid_k)\n",
    "    with open(\"train.data\") as input_file:\n",
    "        input_line = input_file.readline()\n",
    "        while input_line:\n",
    "            groupNo, wordIDx, count = map(int, input_line.split())\n",
    "            mGries.process(wordIDx, count)\n",
    "            input_line = input_file.readline()\n",
    "    mGriesRelativeError = 0\n",
    "    with open(\"query.data\") as query_file:\n",
    "        input_line = query_file.readline()\n",
    "        while input_line:\n",
    "            wordIDx, actualCount = map(int, input_line.split())\n",
    "            mGriesRelativeError += abs(mGries.query(wordIDx) - actualCount) / actualCount\n",
    "            input_line = query_file.readline()\n",
    "    mGriesRelativeError /= 100  \n",
    "    if mGriesRelativeError < 1:\n",
    "        answer_k = mid_k\n",
    "        end_k = mid_k - 1\n",
    "    else:\n",
    "        start_k = mid_k + 1  \n",
    "    print(mid_k, start_k, end_k, mGriesRelativeError)\n",
    "    mid_k = (start_k + end_k) // 2\n",
    "print(\"Min k for 1% average error is:\", answer_k)"
   ]
  },
  {
   "cell_type": "markdown",
   "metadata": {},
   "source": [
    "#### count-min Sketch"
   ]
  },
  {
   "cell_type": "code",
   "execution_count": 10,
   "metadata": {
    "ExecuteTime": {
     "end_time": "2021-04-22T10:28:28.095921Z",
     "start_time": "2021-04-22T10:26:37.710703Z"
    }
   },
   "outputs": [
    {
     "name": "stdout",
     "output_type": "stream",
     "text": [
      "5000 1 4999 0.631224661634355\n",
      "2500 1 2499 0.9900919365180273\n",
      "1250 1251 2499 1.7734116846201136\n",
      "1875 1876 2499 1.2308164214938027\n",
      "2187 2188 2499 1.200392406432636\n",
      "2343 2344 2499 1.013366995116046\n",
      "2421 2422 2499 1.0163455818866278\n",
      "2460 2461 2499 1.0251196438767132\n",
      "2480 2481 2499 1.0004887863678598\n",
      "2490 2481 2489 0.9862257189422817\n",
      "2485 2481 2484 0.9851902890859086\n",
      "2482 2481 2481 0.9494146406024413\n",
      "2481 2481 2480 0.9057107879331876\n",
      "Min w for average error < 1% : 2481\n"
     ]
    }
   ],
   "source": [
    "#Binary Search\n",
    "start_w = 1\n",
    "end_w = 10000\n",
    "answer_w = end_w\n",
    "mid_w = (start_w + end_w) // 2\n",
    "while mid_w <= end_w and mid_w >= start_w:\n",
    "    countMin = CountMinSketch(5, mid_w)\n",
    "    with open(\"train.data\") as input_file:\n",
    "        input_line = input_file.readline()\n",
    "        while input_line:\n",
    "            groupNo, wordIDx, count = map(int, input_line.split())\n",
    "            countMin.process(wordIDx, count)\n",
    "            input_line = input_file.readline()\n",
    "    countMinRelativeError = 0\n",
    "    with open(\"query.data\") as query_file:\n",
    "        input_line = query_file.readline()\n",
    "        while input_line:\n",
    "            wordIDx, actualCount = map(int, input_line.split())\n",
    "            countMinRelativeError += abs(countMin.query(wordIDx) - actualCount) / actualCount\n",
    "            input_line = query_file.readline()\n",
    "    countMinRelativeError /= 100  \n",
    "    if countMinRelativeError < 1:\n",
    "        answer_w = mid_w\n",
    "        end_w = mid_w - 1\n",
    "    else:\n",
    "        start_w = mid_w + 1  \n",
    "    print(mid_w, start_w, end_w, countMinRelativeError)\n",
    "    mid_w = (start_w + end_w) // 2\n",
    "print(\"Min w for average error < 1% :\", answer_w)"
   ]
  },
  {
   "cell_type": "markdown",
   "metadata": {},
   "source": [
    "#### count Sketch"
   ]
  },
  {
   "cell_type": "code",
   "execution_count": 11,
   "metadata": {
    "ExecuteTime": {
     "end_time": "2021-04-22T10:31:14.979113Z",
     "start_time": "2021-04-22T10:28:28.098624Z"
    }
   },
   "outputs": [
    {
     "name": "stdout",
     "output_type": "stream",
     "text": [
      "5000 1 4999 0.5712966246325957\n",
      "2500 1 2499 0.6145178299625624\n",
      "1250 1 1249 0.7930102315796015\n",
      "625 626 1249 1.1204720857619377\n",
      "937 626 936 0.936701937361133\n",
      "781 782 936 1.0888204373643031\n",
      "859 860 936 1.120448539306236\n",
      "898 899 936 1.588386016866834\n",
      "917 899 916 0.8815909873336374\n",
      "907 899 906 0.9877757755443238\n",
      "902 903 906 1.5585286143128962\n",
      "904 903 903 0.8432443145623167\n",
      "903 904 903 1.0147207058212553\n",
      "Min w for average error < 1% : 904\n"
     ]
    }
   ],
   "source": [
    "#Binary Search\n",
    "start_w = 1\n",
    "end_w = 10000\n",
    "answer_w2 = end_w\n",
    "mid_w = (start_w + end_w) // 2\n",
    "while mid_w <= end_w and mid_w >= start_w:\n",
    "    countSketch = CountSketch(5, mid_w)\n",
    "    with open(\"train.data\") as input_file:\n",
    "        input_line = input_file.readline()\n",
    "        while input_line:\n",
    "            groupNo, wordIDx, count = map(int, input_line.split())\n",
    "            countSketch.process(wordIDx, count)\n",
    "            input_line = input_file.readline()\n",
    "    countSketchRelativeError = 0\n",
    "    with open(\"query.data\") as query_file:\n",
    "        input_line = query_file.readline()\n",
    "        while input_line:\n",
    "            wordIDx, actualCount = map(int, input_line.split())\n",
    "            countSketchRelativeError += abs(countSketch.query(wordIDx) - actualCount) / actualCount\n",
    "            input_line = query_file.readline()\n",
    "    countSketchRelativeError /= 100  \n",
    "    if countSketchRelativeError < 1:\n",
    "        answer_w2 = mid_w\n",
    "        end_w = mid_w - 1\n",
    "    else:\n",
    "        start_w = mid_w + 1  \n",
    "    print(mid_w, start_w, end_w, countSketchRelativeError)\n",
    "    mid_w = (start_w + end_w) // 2\n",
    "print(\"Min w for average error < 1% :\", answer_w2)"
   ]
  }
 ],
 "metadata": {
  "kernelspec": {
   "display_name": "Python 3",
   "language": "python",
   "name": "python3"
  },
  "language_info": {
   "codemirror_mode": {
    "name": "ipython",
    "version": 3
   },
   "file_extension": ".py",
   "mimetype": "text/x-python",
   "name": "python",
   "nbconvert_exporter": "python",
   "pygments_lexer": "ipython3",
   "version": "3.8.2"
  },
  "toc": {
   "base_numbering": 1,
   "nav_menu": {},
   "number_sections": true,
   "sideBar": true,
   "skip_h1_title": false,
   "title_cell": "Table of Contents",
   "title_sidebar": "Contents",
   "toc_cell": false,
   "toc_position": {},
   "toc_section_display": true,
   "toc_window_display": false
  },
  "varInspector": {
   "cols": {
    "lenName": 16,
    "lenType": 16,
    "lenVar": 40
   },
   "kernels_config": {
    "python": {
     "delete_cmd_postfix": "",
     "delete_cmd_prefix": "del ",
     "library": "var_list.py",
     "varRefreshCmd": "print(var_dic_list())"
    },
    "r": {
     "delete_cmd_postfix": ") ",
     "delete_cmd_prefix": "rm(",
     "library": "var_list.r",
     "varRefreshCmd": "cat(var_dic_list()) "
    }
   },
   "types_to_exclude": [
    "module",
    "function",
    "builtin_function_or_method",
    "instance",
    "_Feature"
   ],
   "window_display": false
  }
 },
 "nbformat": 4,
 "nbformat_minor": 4
}
