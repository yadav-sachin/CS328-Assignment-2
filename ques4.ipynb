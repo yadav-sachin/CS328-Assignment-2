{
 "cells": [
  {
   "cell_type": "code",
   "execution_count": 123,
   "metadata": {
    "ExecuteTime": {
     "end_time": "2021-04-19T21:22:31.423651Z",
     "start_time": "2021-04-19T21:22:31.420682Z"
    }
   },
   "outputs": [],
   "source": [
    "import random\n",
    "from datetime import datetime\n",
    "from tqdm.notebook import tqdm\n",
    "import statistics\n",
    "import matplotlib.pyplot as plt\n",
    "import pandas as pd"
   ]
  },
  {
   "cell_type": "markdown",
   "metadata": {},
   "source": [
    "### Generate Query Data"
   ]
  },
  {
   "cell_type": "code",
   "execution_count": 142,
   "metadata": {
    "ExecuteTime": {
     "end_time": "2021-04-19T21:36:09.613868Z",
     "start_time": "2021-04-19T21:36:07.531966Z"
    }
   },
   "outputs": [
    {
     "name": "stdout",
     "output_type": "stream",
     "text": [
      "53975\n",
      "[[1481, 346], [482, 1298], [8962, 221], [4367, 385], [3061, 228], [1535, 244], [764, 1175], [391, 1246], [1213, 536], [2087, 490], [1050, 446], [400, 261], [3457, 727], [2081, 1063], [3931, 247], [2924, 255], [3055, 343], [1255, 476], [31, 1598], [1557, 1336], [307, 2686], [722, 6042], [3699, 764], [301, 2308], [23, 9247], [10268, 733], [2022, 798], [2236, 454], [12, 9235], [939, 441], [763, 528], [1703, 299], [1030, 2626], [1909, 405], [1120, 570], [1065, 1205], [1028, 2911], [88, 496], [1863, 1576], [1552, 769], [2246, 308], [886, 3723], [173, 281], [1987, 305], [1416, 450], [2363, 446], [12104, 317], [67, 2522], [789, 1333], [1101, 1331], [1544, 545], [1954, 502], [4651, 312], [1413, 1571], [6429, 237], [1400, 809], [2694, 353], [5558, 295], [1130, 761], [655, 451], [308, 420], [1894, 1621], [76, 997], [72, 5061], [3363, 231], [2882, 331], [1063, 282], [1132, 405], [83, 3109], [1722, 307], [6745, 234], [3309, 237], [355, 1477], [1814, 257], [1389, 795], [132, 284], [2172, 442], [1953, 367], [1572, 1108], [2672, 283], [2341, 229], [1758, 334], [785, 1174], [148, 657], [6619, 297], [2410, 279], [1410, 1194], [234, 280], [2783, 350], [952, 519], [3429, 330], [1091, 270], [267, 377], [306, 869], [2646, 237], [5535, 431], [4717, 340], [2531, 285], [1151, 283], [9838, 234]]\n"
     ]
    }
   ],
   "source": [
    "wordCount = {}\n",
    "with open(\"train.data\") as input_file:\n",
    "    input_line = input_file.readline()\n",
    "    while input_line:\n",
    "        groupNo, wordIDx, count = map(int, input_line.split())\n",
    "        if wordIDx in wordCount:\n",
    "            wordCount[wordIDx] += 1\n",
    "        else:\n",
    "            wordCount[wordIDx] = 1\n",
    "        input_line = input_file.readline()\n",
    "wordCountList = []\n",
    "for key, value in wordCount.items():\n",
    "    wordCountList.append([key, value])\n",
    "wordCountList.sort(key = lambda x: x[1], reverse = True)\n",
    "print(len(wordCountList))\n",
    "queryList = random.sample(wordCountList[:1000], 100)\n",
    "with open(\"query.data\", \"w\") as query_file:\n",
    "    for a,b in queryList:\n",
    "        query_file.write(str(a) + \" \" + str(b) + \"\\n\")\n",
    "print(queryList)"
   ]
  },
  {
   "cell_type": "markdown",
   "metadata": {},
   "source": [
    "### Misra-Gries Sketch"
   ]
  },
  {
   "cell_type": "code",
   "execution_count": 102,
   "metadata": {
    "ExecuteTime": {
     "end_time": "2021-04-19T21:02:38.804284Z",
     "start_time": "2021-04-19T21:02:38.798253Z"
    }
   },
   "outputs": [],
   "source": [
    "class MisraGries:\n",
    "    def __init__(self, k):\n",
    "        self.k = k\n",
    "        self.counters = {}\n",
    "    def process(self, element, count):\n",
    "        if element in self.counters:\n",
    "            self.counters[element] += count\n",
    "        elif len(self.counters) < self.k - 1:\n",
    "            self.counters[element] = count\n",
    "        else:\n",
    "            frequencyToDecrease = count\n",
    "            for key, val in self.counters.items():\n",
    "                frequencyToDecrease = min(frequencyToDecrease, val)\n",
    "            for key in self.counters:\n",
    "                self.counters[key] -= frequencyToDecrease\n",
    "            # Remove all keys whose frequency is <= 0\n",
    "            self.counters = {key:val for key, val in self.counters.items() if val > 0}\n",
    "            if count > frequencyToDecrease:\n",
    "                self.counters[element] = count - frequencyToDecrease\n",
    "            self.counters = {key:val for key, val in self.counters.items() if val > 0}\n",
    "    def query(self, element):\n",
    "        if element in self.counters:\n",
    "            return self.counters[element]\n",
    "        return 0"
   ]
  },
  {
   "cell_type": "markdown",
   "metadata": {},
   "source": [
    "### Count-min Sketch"
   ]
  },
  {
   "cell_type": "code",
   "execution_count": 128,
   "metadata": {
    "ExecuteTime": {
     "end_time": "2021-04-19T21:25:32.823562Z",
     "start_time": "2021-04-19T21:25:32.817048Z"
    },
    "code_folding": []
   },
   "outputs": [],
   "source": [
    "class CountMinSketch:\n",
    "    def __init__(self, numRows, numCols):\n",
    "        self.p = 104207\n",
    "        self.hash_functions = []\n",
    "        self.numRows, self.numCols = numRows, numCols\n",
    "        for _ in range(numRows):\n",
    "            random.seed(datetime.now())\n",
    "            a = random.randint(1, self.p - 1)\n",
    "            b = random.randint(1, self.p - 1)\n",
    "            self.hash_functions.append((a,b))\n",
    "        self.countArray = [[0] * numCols for i in range(numRows)]\n",
    "\n",
    "    def hash_value(self, rowID, element):\n",
    "        a, b = self.hash_functions[rowID]\n",
    "        return ((a * element + b) % self.p) % self.numCols\n",
    "   \n",
    "    def process(self, element, count):\n",
    "        for rowID in range(self.numRows):\n",
    "            colID = self.hash_value(rowID, element)\n",
    "            self.countArray[rowID][colID] += count\n",
    "                \n",
    "    def query(self, element):\n",
    "        tempCountArray = []\n",
    "        for rowID in range(self.numRows):\n",
    "            colID = self.hash_value(rowID, element)\n",
    "            tempCountArray.append(self.countArray[rowID][colID])\n",
    "        return min(tempCountArray)"
   ]
  },
  {
   "cell_type": "markdown",
   "metadata": {},
   "source": [
    "### count Sketch"
   ]
  },
  {
   "cell_type": "code",
   "execution_count": 136,
   "metadata": {
    "ExecuteTime": {
     "end_time": "2021-04-19T21:31:45.784653Z",
     "start_time": "2021-04-19T21:31:45.775278Z"
    }
   },
   "outputs": [],
   "source": [
    "class CountSketch:\n",
    "    def __init__(self, numRows, numCols):\n",
    "        self.p = 104207\n",
    "        self.hash_functions = []\n",
    "        self.sign_hash_functions = []\n",
    "        self.numRows, self.numCols = numRows, numCols\n",
    "        for _ in range(numRows):\n",
    "            random.seed(datetime.now())\n",
    "            a = random.randint(1, self.p - 1)\n",
    "            b = random.randint(1, self.p - 1)\n",
    "            self.hash_functions.append((a,b))\n",
    "            random.seed(datetime.now())\n",
    "            a = random.randint(1, self.p - 1)\n",
    "            b = random.randint(1, self.p - 1)\n",
    "            self.sign_hash_functions.append((a,b))\n",
    "        self.countArray = [[0] * numCols for i in range(numRows)]\n",
    "\n",
    "    def hash_value(self, rowID, element):\n",
    "        a, b = self.hash_functions[rowID]\n",
    "        return ((a * element + b) % self.p) % self.numCols\n",
    "   \n",
    "    def sign_hash_value(self, rowID, element):\n",
    "        a, b = self.sign_hash_functions[rowID]\n",
    "        hash_val = ((a * element + b) % self.p) % 2\n",
    "        if hash_val == 0:\n",
    "            return -1\n",
    "        return 1\n",
    "    \n",
    "    def process(self, element, count):\n",
    "        for rowID in range(self.numRows):\n",
    "            colID = self.hash_value(rowID, element)\n",
    "            sign = self.sign_hash_value(rowID, element)\n",
    "            self.countArray[rowID][colID] += sign * count\n",
    "                \n",
    "    def query(self, element):\n",
    "        tempCountArray = []\n",
    "        for rowID in range(self.numRows):\n",
    "            colID = self.hash_value(rowID, element)\n",
    "            sign = self.sign_hash_value(rowID, element)\n",
    "            tempCountArray.append(sign * self.countArray[rowID][colID])\n",
    "        return int(statistics.median(tempCountArray))"
   ]
  },
  {
   "cell_type": "markdown",
   "metadata": {},
   "source": [
    "### Results"
   ]
  },
  {
   "cell_type": "code",
   "execution_count": 143,
   "metadata": {
    "ExecuteTime": {
     "end_time": "2021-04-19T21:37:18.618538Z",
     "start_time": "2021-04-19T21:36:18.596802Z"
    }
   },
   "outputs": [
    {
     "data": {
      "application/vnd.jupyter.widget-view+json": {
       "model_id": "",
       "version_major": 2,
       "version_minor": 0
      },
      "text/plain": [
       "  0%|          | 0/5 [00:00<?, ?it/s]"
      ]
     },
     "metadata": {},
     "output_type": "display_data"
    }
   ],
   "source": [
    "w = 5\n",
    "k_list = (100, 200, 500, 1000, 2000)\n",
    "mGriesRelativeErrorList, countMinRelativeErrorList, countSketchRelativeErrorList = [], [], []\n",
    "for k in tqdm(k_list, leave = False):\n",
    "    d = k // w\n",
    "    mGries = MisraGries(k)\n",
    "    countMin = CountMinSketch(w, d)\n",
    "    countSketch = CountSketch(w, d)\n",
    "    with open(\"train.data\") as input_file:\n",
    "        input_line = input_file.readline()\n",
    "        while input_line:\n",
    "            groupNo, wordIDx, count = map(int, input_line.split())\n",
    "            mGries.process(wordIDx, count)\n",
    "            countMin.process(wordIDx, count)\n",
    "            countSketch.process(wordIdx, count)\n",
    "            input_line = input_file.readline()\n",
    "    mGriesRelativeError, countMinRelativeError, countSketchRelativeError = 0, 0, 0\n",
    "    with open(\"query.data\") as query_file:\n",
    "        input_line = query_file.readline()\n",
    "        while input_line:\n",
    "            wordIDx, actualCount = map(int, input_line.split())\n",
    "            mGriesRelativeError += abs(mGries.query(wordIDx) - actualCount) / actualCount\n",
    "            countMinRelativeError += abs(countMin.query(wordIDx) - actualCount) / actualCount\n",
    "            countSketchRelativeError += abs(countSketch.query(wordIDx) - actualCount) / actualCount\n",
    "            input_line = query_file.readline()\n",
    "    mGriesRelativeError /= 100\n",
    "    countMinRelativeError /= 100\n",
    "    countSketchRelativeError /= 100\n",
    "    mGriesRelativeErrorList.append(mGriesRelativeError)\n",
    "    countMinRelativeErrorList.append(countMinRelativeError)\n",
    "    countSketchRelativeErrorList.append(countSketchRelativeError)"
   ]
  },
  {
   "cell_type": "code",
   "execution_count": 144,
   "metadata": {
    "ExecuteTime": {
     "end_time": "2021-04-19T21:37:18.706904Z",
     "start_time": "2021-04-19T21:37:18.696414Z"
    }
   },
   "outputs": [
    {
     "data": {
      "text/html": [
       "<div>\n",
       "<style scoped>\n",
       "    .dataframe tbody tr th:only-of-type {\n",
       "        vertical-align: middle;\n",
       "    }\n",
       "\n",
       "    .dataframe tbody tr th {\n",
       "        vertical-align: top;\n",
       "    }\n",
       "\n",
       "    .dataframe thead th {\n",
       "        text-align: right;\n",
       "    }\n",
       "</style>\n",
       "<table border=\"1\" class=\"dataframe\">\n",
       "  <thead>\n",
       "    <tr style=\"text-align: right;\">\n",
       "      <th></th>\n",
       "      <th>misra-gries</th>\n",
       "      <th>count-min</th>\n",
       "      <th>count sketch</th>\n",
       "    </tr>\n",
       "    <tr>\n",
       "      <th>k</th>\n",
       "      <th></th>\n",
       "      <th></th>\n",
       "      <th></th>\n",
       "    </tr>\n",
       "  </thead>\n",
       "  <tbody>\n",
       "    <tr>\n",
       "      <th>100</th>\n",
       "      <td>1.037450</td>\n",
       "      <td>212.027074</td>\n",
       "      <td>1.0</td>\n",
       "    </tr>\n",
       "    <tr>\n",
       "      <th>200</th>\n",
       "      <td>1.055882</td>\n",
       "      <td>97.079551</td>\n",
       "      <td>1.0</td>\n",
       "    </tr>\n",
       "    <tr>\n",
       "      <th>500</th>\n",
       "      <td>1.043038</td>\n",
       "      <td>32.329254</td>\n",
       "      <td>1.0</td>\n",
       "    </tr>\n",
       "    <tr>\n",
       "      <th>1000</th>\n",
       "      <td>1.023132</td>\n",
       "      <td>14.817722</td>\n",
       "      <td>1.0</td>\n",
       "    </tr>\n",
       "    <tr>\n",
       "      <th>2000</th>\n",
       "      <td>0.851478</td>\n",
       "      <td>6.404792</td>\n",
       "      <td>1.0</td>\n",
       "    </tr>\n",
       "  </tbody>\n",
       "</table>\n",
       "</div>"
      ],
      "text/plain": [
       "      misra-gries   count-min  count sketch\n",
       "k                                          \n",
       "100      1.037450  212.027074           1.0\n",
       "200      1.055882   97.079551           1.0\n",
       "500      1.043038   32.329254           1.0\n",
       "1000     1.023132   14.817722           1.0\n",
       "2000     0.851478    6.404792           1.0"
      ]
     },
     "metadata": {},
     "output_type": "display_data"
    }
   ],
   "source": [
    "df = pd.DataFrame({'k': k_list, \n",
    "                   'misra-gries' : mGriesRelativeErrorList,\n",
    "                  'count-min' : countMinRelativeErrorList,\n",
    "                  'count sketch' : countSketchRelativeErrorList})\n",
    "df = df.set_index('k')\n",
    "display(df)\n",
    "# print(mGriesRelativeErrorList)\n",
    "# print(countMinRelativeErrorList)\n",
    "# print(countSketchRelativeErrorList)"
   ]
  },
  {
   "cell_type": "code",
   "execution_count": 145,
   "metadata": {
    "ExecuteTime": {
     "end_time": "2021-04-19T21:37:18.934680Z",
     "start_time": "2021-04-19T21:37:18.781320Z"
    }
   },
   "outputs": [
    {
     "data": {
      "image/png": "[encoded data removed]",
      "text/plain": [
       "<Figure size 432x288 with 1 Axes>"
      ]
     },
     "metadata": {
      "needs_background": "light"
     },
     "output_type": "display_data"
    }
   ],
   "source": [
    "plt.plot(k_list, mGriesRelativeErrorList, label = \"Misra-Gries Sketch\")\n",
    "plt.plot(k_list, countMinRelativeErrorList, label = \"count-min Sketch\")\n",
    "plt.plot(k_list, countSketchRelativeErrorList, label = \"count Sketch\")\n",
    "plt.legend()\n",
    "plt.show()"
   ]
  }
 ],
 "metadata": {
  "kernelspec": {
   "display_name": "Python 3",
   "language": "python",
   "name": "python3"
  },
  "language_info": {
   "codemirror_mode": {
    "name": "ipython",
    "version": 3
   },
   "file_extension": ".py",
   "mimetype": "text/x-python",
   "name": "python",
   "nbconvert_exporter": "python",
   "pygments_lexer": "ipython3",
   "version": "3.8.2"
  },
  "toc": {
   "base_numbering": 1,
   "nav_menu": {},
   "number_sections": true,
   "sideBar": true,
   "skip_h1_title": false,
   "title_cell": "Table of Contents",
   "title_sidebar": "Contents",
   "toc_cell": false,
   "toc_position": {},
   "toc_section_display": true,
   "toc_window_display": false
  },
  "varInspector": {
   "cols": {
    "lenName": 16,
    "lenType": 16,
    "lenVar": 40
   },
   "kernels_config": {
    "python": {
     "delete_cmd_postfix": "",
     "delete_cmd_prefix": "del ",
     "library": "var_list.py",
     "varRefreshCmd": "print(var_dic_list())"
    },
    "r": {
     "delete_cmd_postfix": ") ",
     "delete_cmd_prefix": "rm(",
     "library": "var_list.r",
     "varRefreshCmd": "cat(var_dic_list()) "
    }
   },
   "types_to_exclude": [
    "module",
    "function",
    "builtin_function_or_method",
    "instance",
    "_Feature"
   ],
   "window_display": false
  }
 },
 "nbformat": 4,
 "nbformat_minor": 4
}
